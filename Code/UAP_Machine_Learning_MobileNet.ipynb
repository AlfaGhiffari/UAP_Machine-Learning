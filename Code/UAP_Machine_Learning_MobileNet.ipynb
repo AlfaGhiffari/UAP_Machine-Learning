{
  "nbformat": 4,
  "nbformat_minor": 0,
  "metadata": {
    "colab": {
      "provenance": []
    },
    "kernelspec": {
      "name": "python3",
      "display_name": "Python 3"
    },
    "language_info": {
      "name": "python"
    }
  },
  "cells": [
    {
      "cell_type": "code",
      "source": [
        "import tensorflow as tf\n",
        "import os\n",
        "import numpy as np\n",
        "from sklearn.metrics import classification_report, confusion_matrix\n",
        "from tensorflow.keras.preprocessing.image import ImageDataGenerator\n",
        "from tensorflow.keras.applications.inception_v3 import InceptionV3\n",
        "from tensorflow.keras.models import Sequential\n",
        "from tensorflow.keras.layers import GlobalAveragePooling2D, Dense\n",
        "from tensorflow.keras.models import Model\n",
        "import seaborn as sns\n",
        "import matplotlib.pyplot as plt\n",
        "from sklearn.metrics import confusion_matrix\n",
        "from sklearn.metrics import classification_report\n",
        "from tensorflow import keras\n",
        "from tensorflow.keras import regularizers\n",
        "from tensorflow.keras.callbacks import ModelCheckpoint"
      ],
      "metadata": {
        "id": "Sd9HYPMF4BV5"
      },
      "execution_count": 66,
      "outputs": []
    },
    {
      "cell_type": "code",
      "execution_count": 67,
      "metadata": {
        "colab": {
          "base_uri": "https://localhost:8080/"
        },
        "id": "AYQjPzWsWnIw",
        "outputId": "0fe9df23-1166-4430-bc0d-e7e18a31e135"
      },
      "outputs": [
        {
          "output_type": "stream",
          "name": "stdout",
          "text": [
            "Drive already mounted at /content/drive; to attempt to forcibly remount, call drive.mount(\"/content/drive\", force_remount=True).\n"
          ]
        }
      ],
      "source": [
        "from google.colab import drive\n",
        "drive.mount('/content/drive')"
      ]
    },
    {
      "cell_type": "code",
      "source": [
        "# Tentukan path ke direktori dataset\n",
        "dataset_dir = '/content/drive/MyDrive/Dataset/Rumah Adat'\n",
        "\n",
        "# Daftar direktori yang berisi data TRAIN, TEST, dan PENGUJIAN\n",
        "train_dir = os.path.join(dataset_dir, 'train')\n",
        "test_dir = os.path.join(dataset_dir, 'test')\n",
        "val_dir = os.path.join(dataset_dir, 'val')"
      ],
      "metadata": {
        "id": "hpPAEUrtJTmL"
      },
      "execution_count": 68,
      "outputs": []
    },
    {
      "cell_type": "code",
      "source": [
        "# Persiapkan data dengan menggunakan ImageDataGenerator\n",
        "datagen = ImageDataGenerator(preprocessing_function=tf.keras.applications.inception_v3.preprocess_input)"
      ],
      "metadata": {
        "id": "ZOYo9gNW4wlN"
      },
      "execution_count": 69,
      "outputs": []
    },
    {
      "cell_type": "code",
      "source": [
        "# Parameter\n",
        "batch_size = 32\n",
        "img_size = (128, 128)"
      ],
      "metadata": {
        "id": "C_lBNdIG4xek"
      },
      "execution_count": 70,
      "outputs": []
    },
    {
      "cell_type": "code",
      "source": [
        "# Data Augmentation untuk training\n",
        "train_datagen = ImageDataGenerator(\n",
        "    rescale=1./255,\n",
        "    shear_range=0.2,\n",
        "    zoom_range=0.2,\n",
        "    horizontal_flip=True\n",
        ")"
      ],
      "metadata": {
        "id": "FgFwcVWB4zXb"
      },
      "execution_count": 71,
      "outputs": []
    },
    {
      "cell_type": "code",
      "source": [
        "# Rescale untuk validation dan test\n",
        "val_datagen = ImageDataGenerator(rescale=1./255)\n",
        "test_datagen = ImageDataGenerator(rescale=1./255)"
      ],
      "metadata": {
        "id": "wHTAerXe42K-"
      },
      "execution_count": 72,
      "outputs": []
    },
    {
      "cell_type": "code",
      "source": [
        "# Generator untuk data training\n",
        "train_generator = train_datagen.flow_from_directory(\n",
        "    train_dir,\n",
        "    target_size=img_size,\n",
        "    batch_size=batch_size,\n",
        "    class_mode='categorical'\n",
        ")\n",
        "\n",
        "# Generator untuk data validasi\n",
        "val_generator = val_datagen.flow_from_directory(\n",
        "    val_dir,\n",
        "    target_size=img_size,\n",
        "    batch_size=batch_size,\n",
        "    class_mode='categorical'\n",
        ")\n",
        "\n",
        "# Generator untuk data test\n",
        "test_generator = test_datagen.flow_from_directory(\n",
        "    test_dir,\n",
        "    target_size=img_size,\n",
        "    batch_size=1,\n",
        "    class_mode='categorical',\n",
        "    shuffle=False\n",
        ")"
      ],
      "metadata": {
        "colab": {
          "base_uri": "https://localhost:8080/"
        },
        "id": "e-xkvSIc46Pu",
        "outputId": "7abdeda1-b267-4576-d9de-dc5de27f2268"
      },
      "execution_count": 73,
      "outputs": [
        {
          "output_type": "stream",
          "name": "stdout",
          "text": [
            "Found 7032 images belonging to 5 classes.\n",
            "Found 1505 images belonging to 5 classes.\n",
            "Found 1511 images belonging to 5 classes.\n"
          ]
        }
      ]
    },
    {
      "cell_type": "code",
      "source": [
        "base_model = tf.keras.applications.MobileNet(\n",
        "    include_top=False,\n",
        "    weights='imagenet',\n",
        "    input_tensor=None,\n",
        "    input_shape=(128, 128, 3),\n",
        "    pooling='avg'\n",
        ")"
      ],
      "metadata": {
        "id": "MgvrIA0P9ZHT",
        "colab": {
          "base_uri": "https://localhost:8080/"
        },
        "outputId": "455f1f3c-70f4-46dc-9f4e-1a579a8e46ab"
      },
      "execution_count": 74,
      "outputs": [
        {
          "output_type": "stream",
          "name": "stdout",
          "text": [
            "Downloading data from https://storage.googleapis.com/tensorflow/keras-applications/mobilenet/mobilenet_1_0_128_tf_no_top.h5\n",
            "\u001b[1m17225924/17225924\u001b[0m \u001b[32m━━━━━━━━━━━━━━━━━━━━\u001b[0m\u001b[37m\u001b[0m \u001b[1m0s\u001b[0m 0us/step\n"
          ]
        }
      ]
    },
    {
      "cell_type": "code",
      "source": [
        "# Model MobileNet pre-trained\n",
        "base_model = tf.keras.applications.MobileNet(\n",
        "    include_top=False,\n",
        "    weights='imagenet',\n",
        "    input_tensor=None,\n",
        "    input_shape=(128, 128, 3),  # Ukuran gambar (resolusi)\n",
        "    pooling='avg'  # Pooling rata-rata\n",
        ")\n",
        "\n",
        "# Menambahkan layer klasifikasi di atas MobileNet\n",
        "model = tf.keras.models.Sequential([\n",
        "    base_model,\n",
        "    tf.keras.layers.Dense(5, activation='softmax'),  # Jumlah kelas = 5\n",
        "])\n"
      ],
      "metadata": {
        "id": "WTJ2vOkP9bhQ"
      },
      "execution_count": 75,
      "outputs": []
    },
    {
      "cell_type": "code",
      "source": [
        "# Membekukan layer agar tidak terupdate saat pelatihan\n",
        "for layer in base_model.layers:\n",
        "    layer.trainable = False"
      ],
      "metadata": {
        "id": "7-JQk4aj9ex-"
      },
      "execution_count": 77,
      "outputs": []
    },
    {
      "cell_type": "code",
      "source": [
        "# Compile model\n",
        "model.compile(optimizer='adam',\n",
        "              loss='categorical_crossentropy',\n",
        "              metrics=['accuracy'])"
      ],
      "metadata": {
        "id": "DRo3vews9hej"
      },
      "execution_count": 78,
      "outputs": []
    },
    {
      "cell_type": "code",
      "source": [
        "# Tempat menyimpan model terbaik\n",
        "model_checkpoint = ModelCheckpoint(\n",
        "    filepath='/content/drive/MyDrive/Dataset/inception_model.keras',\n",
        "    monitor='val_accuracy',\n",
        "    save_best_only=True,\n",
        "    save_weights_only=False,\n",
        "    mode='max',\n",
        "    verbose=1\n",
        ")"
      ],
      "metadata": {
        "id": "W7SrzlKP9lDJ"
      },
      "execution_count": 79,
      "outputs": []
    },
    {
      "cell_type": "code",
      "source": [
        "# Pelatihan model\n",
        "history = model.fit(\n",
        "    train_generator,\n",
        "    epochs=10,\n",
        "    validation_data=val_generator,\n",
        "    callbacks=[model_checkpoint]\n",
        ")"
      ],
      "metadata": {
        "colab": {
          "base_uri": "https://localhost:8080/"
        },
        "id": "zn4UqHPdKsWV",
        "outputId": "65cad971-616e-435d-ad5c-faf11237d7ac"
      },
      "execution_count": 80,
      "outputs": [
        {
          "output_type": "stream",
          "name": "stdout",
          "text": [
            "Epoch 1/10\n",
            "\u001b[1m220/220\u001b[0m \u001b[32m━━━━━━━━━━━━━━━━━━━━\u001b[0m\u001b[37m\u001b[0m \u001b[1m0s\u001b[0m 952ms/step - accuracy: 0.8001 - loss: 0.5690\n",
            "Epoch 1: val_accuracy improved from -inf to 0.97940, saving model to /content/drive/MyDrive/Dataset/inception_model.keras\n",
            "\u001b[1m220/220\u001b[0m \u001b[32m━━━━━━━━━━━━━━━━━━━━\u001b[0m\u001b[37m\u001b[0m \u001b[1m254s\u001b[0m 1s/step - accuracy: 0.8006 - loss: 0.5676 - val_accuracy: 0.9794 - val_loss: 0.0731\n",
            "Epoch 2/10\n",
            "\u001b[1m220/220\u001b[0m \u001b[32m━━━━━━━━━━━━━━━━━━━━\u001b[0m\u001b[37m\u001b[0m \u001b[1m0s\u001b[0m 881ms/step - accuracy: 0.9820 - loss: 0.0676\n",
            "Epoch 2: val_accuracy improved from 0.97940 to 0.99136, saving model to /content/drive/MyDrive/Dataset/inception_model.keras\n",
            "\u001b[1m220/220\u001b[0m \u001b[32m━━━━━━━━━━━━━━━━━━━━\u001b[0m\u001b[37m\u001b[0m \u001b[1m250s\u001b[0m 1s/step - accuracy: 0.9820 - loss: 0.0676 - val_accuracy: 0.9914 - val_loss: 0.0482\n",
            "Epoch 3/10\n",
            "\u001b[1m220/220\u001b[0m \u001b[32m━━━━━━━━━━━━━━━━━━━━\u001b[0m\u001b[37m\u001b[0m \u001b[1m0s\u001b[0m 867ms/step - accuracy: 0.9882 - loss: 0.0469\n",
            "Epoch 3: val_accuracy improved from 0.99136 to 0.99336, saving model to /content/drive/MyDrive/Dataset/inception_model.keras\n",
            "\u001b[1m220/220\u001b[0m \u001b[32m━━━━━━━━━━━━━━━━━━━━\u001b[0m\u001b[37m\u001b[0m \u001b[1m250s\u001b[0m 1s/step - accuracy: 0.9882 - loss: 0.0469 - val_accuracy: 0.9934 - val_loss: 0.0409\n",
            "Epoch 4/10\n",
            "\u001b[1m220/220\u001b[0m \u001b[32m━━━━━━━━━━━━━━━━━━━━\u001b[0m\u001b[37m\u001b[0m \u001b[1m0s\u001b[0m 908ms/step - accuracy: 0.9936 - loss: 0.0265\n",
            "Epoch 4: val_accuracy improved from 0.99336 to 0.99402, saving model to /content/drive/MyDrive/Dataset/inception_model.keras\n",
            "\u001b[1m220/220\u001b[0m \u001b[32m━━━━━━━━━━━━━━━━━━━━\u001b[0m\u001b[37m\u001b[0m \u001b[1m236s\u001b[0m 1s/step - accuracy: 0.9936 - loss: 0.0265 - val_accuracy: 0.9940 - val_loss: 0.0339\n",
            "Epoch 5/10\n",
            "\u001b[1m220/220\u001b[0m \u001b[32m━━━━━━━━━━━━━━━━━━━━\u001b[0m\u001b[37m\u001b[0m \u001b[1m0s\u001b[0m 859ms/step - accuracy: 0.9955 - loss: 0.0211\n",
            "Epoch 5: val_accuracy did not improve from 0.99402\n",
            "\u001b[1m220/220\u001b[0m \u001b[32m━━━━━━━━━━━━━━━━━━━━\u001b[0m\u001b[37m\u001b[0m \u001b[1m260s\u001b[0m 1s/step - accuracy: 0.9955 - loss: 0.0211 - val_accuracy: 0.9934 - val_loss: 0.0309\n",
            "Epoch 6/10\n",
            "\u001b[1m220/220\u001b[0m \u001b[32m━━━━━━━━━━━━━━━━━━━━\u001b[0m\u001b[37m\u001b[0m \u001b[1m0s\u001b[0m 887ms/step - accuracy: 0.9963 - loss: 0.0182\n",
            "Epoch 6: val_accuracy did not improve from 0.99402\n",
            "\u001b[1m220/220\u001b[0m \u001b[32m━━━━━━━━━━━━━━━━━━━━\u001b[0m\u001b[37m\u001b[0m \u001b[1m261s\u001b[0m 1s/step - accuracy: 0.9963 - loss: 0.0182 - val_accuracy: 0.9934 - val_loss: 0.0315\n",
            "Epoch 7/10\n",
            "\u001b[1m220/220\u001b[0m \u001b[32m━━━━━━━━━━━━━━━━━━━━\u001b[0m\u001b[37m\u001b[0m \u001b[1m0s\u001b[0m 859ms/step - accuracy: 0.9961 - loss: 0.0164\n",
            "Epoch 7: val_accuracy improved from 0.99402 to 0.99535, saving model to /content/drive/MyDrive/Dataset/inception_model.keras\n",
            "\u001b[1m220/220\u001b[0m \u001b[32m━━━━━━━━━━━━━━━━━━━━\u001b[0m\u001b[37m\u001b[0m \u001b[1m234s\u001b[0m 1s/step - accuracy: 0.9961 - loss: 0.0164 - val_accuracy: 0.9953 - val_loss: 0.0274\n",
            "Epoch 8/10\n",
            "\u001b[1m220/220\u001b[0m \u001b[32m━━━━━━━━━━━━━━━━━━━━\u001b[0m\u001b[37m\u001b[0m \u001b[1m0s\u001b[0m 861ms/step - accuracy: 0.9979 - loss: 0.0136\n",
            "Epoch 8: val_accuracy did not improve from 0.99535\n",
            "\u001b[1m220/220\u001b[0m \u001b[32m━━━━━━━━━━━━━━━━━━━━\u001b[0m\u001b[37m\u001b[0m \u001b[1m254s\u001b[0m 1s/step - accuracy: 0.9979 - loss: 0.0136 - val_accuracy: 0.9953 - val_loss: 0.0272\n",
            "Epoch 9/10\n",
            "\u001b[1m220/220\u001b[0m \u001b[32m━━━━━━━━━━━━━━━━━━━━\u001b[0m\u001b[37m\u001b[0m \u001b[1m0s\u001b[0m 886ms/step - accuracy: 0.9972 - loss: 0.0134\n",
            "Epoch 9: val_accuracy improved from 0.99535 to 0.99601, saving model to /content/drive/MyDrive/Dataset/inception_model.keras\n",
            "\u001b[1m220/220\u001b[0m \u001b[32m━━━━━━━━━━━━━━━━━━━━\u001b[0m\u001b[37m\u001b[0m \u001b[1m232s\u001b[0m 1s/step - accuracy: 0.9972 - loss: 0.0134 - val_accuracy: 0.9960 - val_loss: 0.0257\n",
            "Epoch 10/10\n",
            "\u001b[1m220/220\u001b[0m \u001b[32m━━━━━━━━━━━━━━━━━━━━\u001b[0m\u001b[37m\u001b[0m \u001b[1m0s\u001b[0m 901ms/step - accuracy: 0.9973 - loss: 0.0103\n",
            "Epoch 10: val_accuracy did not improve from 0.99601\n",
            "\u001b[1m220/220\u001b[0m \u001b[32m━━━━━━━━━━━━━━━━━━━━\u001b[0m\u001b[37m\u001b[0m \u001b[1m265s\u001b[0m 1s/step - accuracy: 0.9973 - loss: 0.0103 - val_accuracy: 0.9953 - val_loss: 0.0276\n"
          ]
        }
      ]
    },
    {
      "cell_type": "code",
      "source": [
        "# Tampilkan grafik akurasi\n",
        "plt.plot(history.history['accuracy'], label='Training Accuracy')\n",
        "plt.plot(history.history['val_accuracy'], label='Validation Accuracy')\n",
        "plt.title('Training and Validation Accuracy')\n",
        "plt.xlabel('Epoch')\n",
        "plt.ylabel('Accuracy')\n",
        "plt.legend()\n",
        "plt.show()"
      ],
      "metadata": {
        "colab": {
          "base_uri": "https://localhost:8080/",
          "height": 472
        },
        "id": "H5ZdhaupZdVh",
        "outputId": "60293339-83c2-4421-9f66-9f063c1bd226"
      },
      "execution_count": 81,
      "outputs": [
        {
          "output_type": "display_data",
          "data": {
            "text/plain": [
              "<Figure size 640x480 with 1 Axes>"
            ],
            "image/png": "[encoded data removed]"
          },
          "metadata": {}
        }
      ]
    },
    {
      "cell_type": "code",
      "source": [
        "# Tampilkan grafik loss\n",
        "plt.plot(history.history['loss'], label='Training Loss')\n",
        "plt.plot(history.history['val_loss'], label='Validation Loss')\n",
        "plt.title('Training and Validation Loss')\n",
        "plt.xlabel('Epoch')\n",
        "plt.ylabel('Loss')\n",
        "plt.legend()\n",
        "plt.show()"
      ],
      "metadata": {
        "colab": {
          "base_uri": "https://localhost:8080/",
          "height": 472
        },
        "id": "dn5Cq06AZfoc",
        "outputId": "9bf3755f-4c56-4b0f-fa15-b329e890453e"
      },
      "execution_count": 82,
      "outputs": [
        {
          "output_type": "display_data",
          "data": {
            "text/plain": [
              "<Figure size 640x480 with 1 Axes>"
            ],
            "image/png": "[encoded data removed]"
          },
          "metadata": {}
        }
      ]
    },
    {
      "cell_type": "code",
      "source": [
        "# Memuat model terbaik\n",
        "best_model = keras.models.load_model('/content/drive/MyDrive/Dataset/inception_model.keras')"
      ],
      "metadata": {
        "id": "tkPQ8fCAZjLG"
      },
      "execution_count": 83,
      "outputs": []
    },
    {
      "cell_type": "code",
      "source": [
        "# Evaluasi model menggunakan data test\n",
        "test_loss, test_acc = best_model.evaluate(test_generator)\n",
        "print(f'Test accuracy: {test_acc}')"
      ],
      "metadata": {
        "colab": {
          "base_uri": "https://localhost:8080/"
        },
        "id": "g0Nvxn8tZ5Qg",
        "outputId": "b733aa00-578c-4ae8-f4fb-4284454a0e86"
      },
      "execution_count": 84,
      "outputs": [
        {
          "output_type": "stream",
          "name": "stdout",
          "text": [
            "\u001b[1m1511/1511\u001b[0m \u001b[32m━━━━━━━━━━━━━━━━━━━━\u001b[0m\u001b[37m\u001b[0m \u001b[1m51s\u001b[0m 32ms/step - accuracy: 0.9959 - loss: 0.0127\n",
            "Test accuracy: 0.9966909289360046\n"
          ]
        }
      ]
    },
    {
      "cell_type": "code",
      "source": [
        "# Ambil true classes\n",
        "y_true = test_generator.classes\n",
        "\n",
        "# Ubah kelas menjadi nama kelas\n",
        "class_labels = list(test_generator.class_indices.keys())\n",
        "\n",
        "# Prediksi kelas\n",
        "y_pred = best_model.predict(test_generator)\n",
        "y_pred_classes = np.argmax(y_pred, axis=1)\n",
        "\n",
        "if len(y_true) == len(y_pred_classes):\n",
        "    # classification report\n",
        "    print(\"Classification Report:\")\n",
        "    print(classification_report(y_true, y_pred_classes, target_names=class_labels))\n",
        "else:\n",
        "    print(\"Error: Number of samples in y_true and y_pred_classes are not consistent.\")"
      ],
      "metadata": {
        "colab": {
          "base_uri": "https://localhost:8080/"
        },
        "id": "mlg2zycYZ7R-",
        "outputId": "62357b22-67de-424d-8470-8051b8b2c023"
      },
      "execution_count": 85,
      "outputs": [
        {
          "output_type": "stream",
          "name": "stdout",
          "text": [
            "\u001b[1m1511/1511\u001b[0m \u001b[32m━━━━━━━━━━━━━━━━━━━━\u001b[0m\u001b[37m\u001b[0m \u001b[1m53s\u001b[0m 35ms/step\n",
            "Classification Report:\n",
            "              precision    recall  f1-score   support\n",
            "\n",
            "      gadang       1.00      0.99      1.00       294\n",
            "       honai       1.00      1.00      1.00       309\n",
            "       joglo       0.99      0.99      0.99       324\n",
            "     panjang       0.99      1.00      0.99       282\n",
            "   tongkonan       1.00      1.00      1.00       302\n",
            "\n",
            "    accuracy                           1.00      1511\n",
            "   macro avg       1.00      1.00      1.00      1511\n",
            "weighted avg       1.00      1.00      1.00      1511\n",
            "\n"
          ]
        }
      ]
    }
  ]
}